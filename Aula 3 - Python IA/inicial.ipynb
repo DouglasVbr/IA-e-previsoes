{
 "cells": [
  {
   "cell_type": "markdown",
   "metadata": {},
   "source": [
    "# Projeto Python IA: Inteligência Artificial e Previsões\n",
    "\n",
    "### Case: Score de Crédito dos Clientes\n",
    "\n",
    "Você foi contratado por um banco para conseguir definir o score de crédito dos clientes. Você precisa analisar todos os clientes do banco e, com base nessa análise, criar um modelo que consiga ler as informações do cliente e dizer automaticamente o score de crédito dele: Ruim, Ok, Bom\n",
    "\n",
    "Arquivos da aula: https://drive.google.com/drive/folders/1FbDqVq4XLvU85VBlVIMJ73p9oOu6u2-J?usp=drive_link"
   ]
  },
  {
   "cell_type": "code",
   "execution_count": 2,
   "metadata": {},
   "outputs": [
    {
     "name": "stderr",
     "output_type": "stream",
     "text": [
      "'pip' não é reconhecido como um comando interno\n",
      "ou externo, um programa operável ou um arquivo em lotes.\n"
     ]
    }
   ],
   "source": [
    "#!pip install pandas scikit-learn "
   ]
  },
  {
   "cell_type": "code",
   "execution_count": null,
   "metadata": {},
   "outputs": [],
   "source": [
    "#passo a passo\n",
    "\n",
    "# passo 0 - entender a empressa eo desafio da empressa\n",
    "\n",
    "#passo 1 - importar a base de dados\n",
    "import pandas as pd\n",
    "\n",
    "tabela = pd.read_csv(\"clientes.csv\")\n",
    "\n",
    "display(tabela)\n",
    "\n",
    "# score de credito ou nota de credito "
   ]
  },
  {
   "cell_type": "code",
   "execution_count": null,
   "metadata": {},
   "outputs": [],
   "source": [
    "\n",
    "# passo 2 - preparar a base de dados para a inteligencia artificial\n",
    "\n",
    "display(tabela.info())\n",
    "\n",
    "#labelEncode\n",
    "\n",
    "from sklearn.preprocessing import LabelEncoder\n",
    "\n",
    "#profissão\n",
    "\n",
    "codificador_profissao = LabelEncoder()\n",
    "tabela[\"profissao\"] = codificador_profissao.fit_transform(tabela[\"profissao\"])\n",
    "\n",
    "#mix_credito\n",
    "codificador_profissao = LabelEncoder()\n",
    "tabela[\"mix_credito\"] = codificador_profissao.fit_transform(tabela[\"mix_credito\"])\n",
    "#comportamento_pagamento\n",
    "codificador_profissao = LabelEncoder()\n",
    "tabela[\"comportamento_pagamento\"] = codificador_profissao.fit_transform(tabela[\"comportamento_pagamento\"])\n",
    "\n",
    "display(tabela.info())"
   ]
  },
  {
   "cell_type": "code",
   "execution_count": null,
   "metadata": {},
   "outputs": [],
   "source": [
    "y = tabela[\"score_credito\"]\n",
    "\n",
    "x = tabela.drop(columns=[\"score_credito\", \"id_cliente\"])\n",
    "\n",
    "from sklearn.model_selection import train_test_split\n",
    "\n",
    "x_treino, x_teste, y_treino, y_teste = train_test_split(x,y, test_size=0.3)\n",
    "\n",
    "\n"
   ]
  },
  {
   "cell_type": "code",
   "execution_count": null,
   "metadata": {},
   "outputs": [],
   "source": [
    "\n",
    "\n",
    "# passo 3 - treinar a inteligencia artificial -> criar um modelo de previsão\n",
    "\n",
    "from sklearn.ensemble import RandomForestClassifier\n",
    "from sklearn.neighbors import KNeighborsClassifier\n",
    "\n",
    "modelo_arvoredecisao = RandomForestClassifier()\n",
    "modelo_knm = KNeighborsClassifier()\n",
    "\n",
    "modelo_arvoredecisao.fit(x_treino, y_treino)\n",
    "modelo_knm.fit(x_treino, y_treino)\n",
    "\n",
    "\n"
   ]
  },
  {
   "cell_type": "code",
   "execution_count": null,
   "metadata": {},
   "outputs": [],
   "source": [
    "\n",
    "\n",
    "# passo 4 - escolher o melhor modelo \n",
    "\n",
    "previsao_arvoredecisao = modelo_arvoredecisao.predict(x_teste)\n",
    "previsao_knm = modelo_knm.predict(x_teste)\n",
    "\n",
    "from sklearn.metrics import accuracy_score\n",
    "display(accuracy_score(y_teste, previsao_arvoredecisao))\n",
    "display(accuracy_score(y_teste, previsao_knm)) \n"
   ]
  },
  {
   "cell_type": "code",
   "execution_count": null,
   "metadata": {},
   "outputs": [],
   "source": [
    "\n",
    "\n",
    "# passo 5 - usar o melhor modelo para fazer previsão de novos clientes\n",
    "\n",
    "tabela_novos_clientes = pd.read_csv(\"novos_clientes.csv\")\n",
    "\n",
    "\n",
    "\n",
    "\n",
    "tabela_novos_clientes[\"profissao\"] = codificador_profissao.transform(tabela_novos_clientes[\"profissao\"]\n",
    "  tabela_novos_clientes[\"profissao\"])\n",
    "#mix_credito\n",
    "\n",
    "tabela_novos_clientes[\"mix_credito\"] = codificador_profissao.transform(tabela_novos_clientes[\"mix_credito\"]\n",
    "tabela_novos_clientes[\"mix_credito\"])\n",
    "#comportamento_pagamento\n",
    "\n",
    "tabela_novos_clientes[\"comportamento_pagamento\"] = codificador_profissao.transform(tabela_novos_clientes[\"comportamento_pagamento\"]\n",
    "tabela_novos_clientes[\"comportamento_pagamento\"])\n",
    "\n",
    "display(tabela_novos_clientes)\n",
    "\n",
    "nova_previsao = modelo_arvoredecisao.predict(tabela_novos_clientes)\n",
    "display(nova_previsao)\n",
    "\n"
   ]
  }
 ],
 "metadata": {
  "kernelspec": {
   "display_name": "Python 3",
   "language": "python",
   "name": "python3"
  },
  "language_info": {
   "codemirror_mode": {
    "name": "ipython",
    "version": 3
   },
   "file_extension": ".py",
   "mimetype": "text/x-python",
   "name": "python",
   "nbconvert_exporter": "python",
   "pygments_lexer": "ipython3",
   "version": "3.13.1"
  },
  "orig_nbformat": 4
 },
 "nbformat": 4,
 "nbformat_minor": 2
}
